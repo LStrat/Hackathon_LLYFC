{
 "cells": [
  {
   "cell_type": "code",
   "execution_count": 61,
   "id": "89be2bc6-f9e2-4999-861b-65dea991e70f",
   "metadata": {},
   "outputs": [],
   "source": [
    "import numpy as np\n",
    "from lava.proc.lif.process import LIF\n",
    "from lava.proc.monitor.process import Monitor\n",
    "from lava.proc.monitor.models import PyMonitorModel\n",
    "from lava.proc.dense.process import Dense\n",
    "from lava.proc.io.sink import RingBuffer\n",
    "from lava.magma.core.run_configs import Loihi1SimCfg, Loihi2HwCfg\n",
    "from lava.magma.core.run_conditions import RunSteps\n",
    "from lava.lib.dnf.connect.connect import connect\n",
    "from lava.lib.dnf.operations.operations import Weights, Convolution\n",
    "from lava.lib.dnf.inputs.gauss_pattern.process import GaussPattern\n",
    "from lava.lib.dnf.inputs.rate_code_spike_gen.process import RateCodeSpikeGen\n",
    "from lava.lib.dnf.kernels.kernels import Kernel\n",
    "#from utils import plot_1d, animated_1d_plot"
   ]
  },
  {
   "cell_type": "markdown",
   "id": "099f6edd-3b57-4e4b-8738-24ace0a12698",
   "metadata": {},
   "source": [
    "Initialize the plug plate event camera input signal"
   ]
  },
  {
   "cell_type": "code",
   "execution_count": 62,
   "id": "2cac1741-30b3-427c-8523-c0f71920ab48",
   "metadata": {},
   "outputs": [],
   "source": [
    "shape = (10, 10)\n",
    "\n",
    "\n",
    "# instancite Spikegenerator (plug plate)\n",
    "spike_generator = RateCodeSpikeGen(shape=shape)\n"
   ]
  },
  {
   "cell_type": "code",
   "execution_count": 63,
   "id": "1a313e26-7990-4f64-8cbe-15aec31874bc",
   "metadata": {},
   "outputs": [],
   "source": [
    "class Architecture:\n",
    "\n",
    "    def __init__(self,kernel: Kernel) -> None:\n",
    "        \n",
    "        n = 10\n",
    "        shape = (n, n)\n",
    "        time_steps = 700\n",
    "        \n",
    "        # Instantiate Processes\n",
    "        self.gauss_pattern_1 = GaussPattern(shape=shape,\n",
    "                                            amplitude=10,\n",
    "                                            mean=[1, 1],\n",
    "                                            stddev=[2.25, 2.25])\n",
    "        self.gauss_pattern_2 = GaussPattern(shape=shape,\n",
    "                                            amplitude=10,\n",
    "                                            mean=[1, 8],\n",
    "                                            stddev=[2.25, 2.25])\n",
    "        self.gauss_pattern_3 = GaussPattern(shape=shape,\n",
    "                                            amplitude=5,\n",
    "                                            mean=[8, 1],\n",
    "                                            stddev=[2.25, 2.25])\n",
    "        self.gauss_pattern_4 = GaussPattern(shape=shape,\n",
    "                                            amplitude=5,\n",
    "                                            mean=[8, 8],\n",
    "                                            stddev=[2.25, 2.25])\n",
    "        \n",
    "        self.spike_generator = RateCodeSpikeGen(shape=shape) \n",
    "        self.input_dense = Dense(weights=np.ones(shape))\n",
    "\n",
    "        \n",
    "        self.dnf = LIF(shape=shape, du=409, dv=2047, vth=200)\n",
    "        self.py_receiver = RingBuffer(shape=shape, buffer=time_steps)\n",
    "        \n",
    "        # When running on Loihi 2 we additionally have spike injector and reader CProcesses. \n",
    "        # They bridge Python and NC-Processes\n",
    "        # if loihi2_is_available:\n",
    "        #    self.injector1 = PyToNxAdapter(shape=shape)\n",
    "        #    self.injector2 = PyToNxAdapter(shape=shape)\n",
    "        #    self.spike_reader = NxToPyAdapter(shape=shape)\n",
    "        \n",
    "        # Make Connections of the Network\n",
    "        self.gauss_pattern_1.a_out.connect(self.spike_generator.a_in)\n",
    "        #self.gauss_pattern_2.a_out.connect(self.spike_generator.a_in)\n",
    "        #self.gauss_pattern_3.a_out.connect(self.spike_generator.a_in)\n",
    "        #self.gauss_pattern_4.a_out.connect(self.spike_generator.a_in)\n",
    "        \n",
    "\n",
    "        \n",
    "        self.spike_generator.s_out.connect(self.input_dense.s_in)\n",
    "        self.input_dense.a_out.connect(self.dnf.a_in)        \n",
    "        connect(self.dnf.s_out, self.dnf.a_in, [Convolution(kernel)])\n",
    "        \n",
    "        self.dnf.s_out.connect(self.py_receiver.a_in)\n",
    "        \n",
    "        \n",
    "        # Set up monitors\n",
    "        self.monitor_input_1 = Monitor()\n",
    "        self.monitor_input_1.probe(self.spike_generator_1.s_out, time_steps)\n",
    "\n",
    "\n",
    "        # Set up a run configuration\n",
    "        self.run_cfg = Loihi1SimCfg(select_tag=\"fixed_pt\")\n",
    "        \n",
    "\n",
    "    def run(self):\n",
    "        condition = RunSteps(num_steps=100)\n",
    "        self.gauss_pattern_1.run(condition=condition, run_cfg=self.run_cfg)\n",
    "        self.gauss_pattern_1.amplitude = 2300\n",
    "        #self.gauss_pattern_2.amplitude = 2300\n",
    "        self.gauss_pattern_1.run(condition=condition, run_cfg=self.run_cfg)\n",
    "        self.gauss_pattern_1.amplitude = 11200\n",
    "        #self.gauss_pattern_2.amplitude = 11200\n",
    "        self.gauss_pattern_1.run(condition=condition, run_cfg=self.run_cfg)\n",
    "        self.gauss_pattern_1.amplitude = 2300\n",
    "        #self.gauss_pattern_2.amplitude = 2300\n",
    "        #self.gauss_pattern_1.run(condition=RunSteps(num_steps=200),\n",
    "        #                         run_cfg=self.run_cfg)\n",
    "        self.gauss_pattern_1.amplitude = 0\n",
    "        #self.gauss_pattern_2.amplitude = 0\n",
    "        self.gauss_pattern_1.run(condition=RunSteps(num_steps=200),\n",
    "                                 run_cfg=self.run_cfg)\n",
    "\n",
    "\n",
    "    def plot(self):\n",
    "        # Get probed data from monitors\n",
    "        data_dnf = self.py_receiver.data.get().transpose()\n",
    "        data_input1 = self.monitor_input_1.get_data() \\\n",
    "            [self.spike_generator.name][self.spike_generator.s_out.name]\n",
    "    \n",
    "        # Stop the execution of the network\n",
    "        self.dnf.stop()\n",
    "\n",
    "        # Generate a raster plot from the probed data\n",
    "        plot_1d(data_dnf,\n",
    "                data_input1,\n",
    "                data_input2)\n",
    "\n",
    "        # Generate an animated plot from the probed data\n",
    "        animated_1d_plot(data_dnf,\n",
    "                         data_input1,\n",
    "                         data_input2)"
   ]
  },
  {
   "cell_type": "code",
   "execution_count": 64,
   "id": "b5a19971-cda5-4a91-a8eb-9d76078a4f10",
   "metadata": {},
   "outputs": [
    {
     "ename": "AttributeError",
     "evalue": "'Dense' object has no attribute 'shape'",
     "output_type": "error",
     "traceback": [
      "\u001b[0;31m---------------------------------------------------------------------------\u001b[0m",
      "\u001b[0;31mAttributeError\u001b[0m                            Traceback (most recent call last)",
      "Cell \u001b[0;32mIn[64], line 8\u001b[0m\n\u001b[1;32m      1\u001b[0m \u001b[38;5;28;01mfrom\u001b[39;00m \u001b[38;5;21;01mlava\u001b[39;00m\u001b[38;5;21;01m.\u001b[39;00m\u001b[38;5;21;01mlib\u001b[39;00m\u001b[38;5;21;01m.\u001b[39;00m\u001b[38;5;21;01mdnf\u001b[39;00m\u001b[38;5;21;01m.\u001b[39;00m\u001b[38;5;21;01mkernels\u001b[39;00m\u001b[38;5;21;01m.\u001b[39;00m\u001b[38;5;21;01mkernels\u001b[39;00m \u001b[38;5;28;01mimport\u001b[39;00m MultiPeakKernel\n\u001b[1;32m      3\u001b[0m detection_kernel \u001b[38;5;241m=\u001b[39m MultiPeakKernel(amp_exc\u001b[38;5;241m=\u001b[39m\u001b[38;5;241m83\u001b[39m, \n\u001b[1;32m      4\u001b[0m                                    width_exc\u001b[38;5;241m=\u001b[39m[\u001b[38;5;241m3.75\u001b[39m, \u001b[38;5;241m3.75\u001b[39m], \n\u001b[1;32m      5\u001b[0m                                    amp_inh\u001b[38;5;241m=\u001b[39m\u001b[38;5;241m-\u001b[39m\u001b[38;5;241m70\u001b[39m,\n\u001b[1;32m      6\u001b[0m                                    width_inh\u001b[38;5;241m=\u001b[39m[\u001b[38;5;241m7.5\u001b[39m, \u001b[38;5;241m7.5\u001b[39m])\n\u001b[0;32m----> 8\u001b[0m architecture \u001b[38;5;241m=\u001b[39m \u001b[43mArchitecture\u001b[49m\u001b[43m(\u001b[49m\u001b[43mdetection_kernel\u001b[49m\u001b[43m)\u001b[49m\n\u001b[1;32m     10\u001b[0m \u001b[38;5;66;03m#architecture.run()\u001b[39;00m\n\u001b[1;32m     11\u001b[0m \u001b[38;5;66;03m#architecture.plot()\u001b[39;00m\n",
      "Cell \u001b[0;32mIn[63], line 29\u001b[0m, in \u001b[0;36mArchitecture.__init__\u001b[0;34m(self, kernel)\u001b[0m\n\u001b[1;32m     27\u001b[0m \u001b[38;5;28mself\u001b[39m\u001b[38;5;241m.\u001b[39mspike_generator \u001b[38;5;241m=\u001b[39m RateCodeSpikeGen(shape\u001b[38;5;241m=\u001b[39mshape) \n\u001b[1;32m     28\u001b[0m \u001b[38;5;28mself\u001b[39m\u001b[38;5;241m.\u001b[39minput_dense \u001b[38;5;241m=\u001b[39m Dense(weights\u001b[38;5;241m=\u001b[39mnp\u001b[38;5;241m.\u001b[39mones(shape))\n\u001b[0;32m---> 29\u001b[0m \u001b[38;5;28;43mself\u001b[39;49m\u001b[38;5;241;43m.\u001b[39;49m\u001b[43minput_dense\u001b[49m\u001b[38;5;241;43m.\u001b[39;49m\u001b[43mshape\u001b[49m\n\u001b[1;32m     32\u001b[0m \u001b[38;5;28mself\u001b[39m\u001b[38;5;241m.\u001b[39mdnf \u001b[38;5;241m=\u001b[39m LIF(shape\u001b[38;5;241m=\u001b[39mshape, du\u001b[38;5;241m=\u001b[39m\u001b[38;5;241m409\u001b[39m, dv\u001b[38;5;241m=\u001b[39m\u001b[38;5;241m2047\u001b[39m, vth\u001b[38;5;241m=\u001b[39m\u001b[38;5;241m200\u001b[39m)\n\u001b[1;32m     33\u001b[0m \u001b[38;5;28mself\u001b[39m\u001b[38;5;241m.\u001b[39mpy_receiver \u001b[38;5;241m=\u001b[39m RingBuffer(shape\u001b[38;5;241m=\u001b[39mshape, buffer\u001b[38;5;241m=\u001b[39mtime_steps)\n",
      "\u001b[0;31mAttributeError\u001b[0m: 'Dense' object has no attribute 'shape'"
     ]
    }
   ],
   "source": [
    "from lava.lib.dnf.kernels.kernels import MultiPeakKernel\n",
    "\n",
    "detection_kernel = MultiPeakKernel(amp_exc=83, \n",
    "                                   width_exc=[3.75, 3.75], \n",
    "                                   amp_inh=-70,\n",
    "                                   width_inh=[7.5, 7.5])\n",
    "\n",
    "architecture = Architecture(detection_kernel)\n",
    "\n",
    "#architecture.run()\n",
    "#architecture.plot()"
   ]
  },
  {
   "cell_type": "code",
   "execution_count": 65,
   "id": "503d2803-65ad-4158-b671-51246218973a",
   "metadata": {},
   "outputs": [
    {
     "ename": "NameError",
     "evalue": "name 'architecture' is not defined",
     "output_type": "error",
     "traceback": [
      "\u001b[0;31m---------------------------------------------------------------------------\u001b[0m",
      "\u001b[0;31mNameError\u001b[0m                                 Traceback (most recent call last)",
      "Cell \u001b[0;32mIn[65], line 1\u001b[0m\n\u001b[0;32m----> 1\u001b[0m \u001b[43marchitecture\u001b[49m\n",
      "\u001b[0;31mNameError\u001b[0m: name 'architecture' is not defined"
     ]
    }
   ],
   "source": [
    "architecture"
   ]
  },
  {
   "cell_type": "code",
   "execution_count": null,
   "id": "b645d4b9-1415-4b63-b902-439e08807355",
   "metadata": {},
   "outputs": [],
   "source": [
    "self.spike_generator\n",
    "\n",
    "\n",
    "kernel = MultiPeakKernel(amp_exc=58,\n",
    "                         width_exc=[3.8, 3.8],\n",
    "                         amp_inh=-50,\n",
    "                         width_inh=[7.5, 7.5])\n",
    "\n",
    "self.spike_generator.s_out.connect(dnf.a_in)\n",
    "connect(dnf.s_out, dnf.a_in, ops=[Convolution(kernel)])"
   ]
  },
  {
   "cell_type": "code",
   "execution_count": null,
   "id": "a74f7a7e-3f5b-4fb4-a090-d5b541e577ae",
   "metadata": {},
   "outputs": [],
   "source": []
  }
 ],
 "metadata": {
  "kernelspec": {
   "display_name": "Python 3 (ipykernel)",
   "language": "python",
   "name": "python3"
  },
  "language_info": {
   "codemirror_mode": {
    "name": "ipython",
    "version": 3
   },
   "file_extension": ".py",
   "mimetype": "text/x-python",
   "name": "python",
   "nbconvert_exporter": "python",
   "pygments_lexer": "ipython3",
   "version": "3.8.10"
  }
 },
 "nbformat": 4,
 "nbformat_minor": 5
}
